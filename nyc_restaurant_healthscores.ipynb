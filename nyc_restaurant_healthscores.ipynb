{
 "cells": [
  {
   "cell_type": "code",
   "execution_count": 2,
   "metadata": {
    "collapsed": true
   },
   "outputs": [],
   "source": [
    "import pandas as pd\n",
    "import scipy.stats as stats\n",
    "import numpy as np\n",
    "\n",
    "%matplotlib inline\n",
    "import seaborn as sns"
   ]
  },
  {
   "cell_type": "code",
   "execution_count": 8,
   "metadata": {},
   "outputs": [],
   "source": [
    "data = pd.read_csv(\"/home/jeffrey/Desktop/inspectionResults.csv\")"
   ]
  },
  {
   "cell_type": "code",
   "execution_count": 11,
   "metadata": {},
   "outputs": [
    {
     "data": {
      "text/plain": [
       "(384157, 18)"
      ]
     },
     "execution_count": 11,
     "metadata": {},
     "output_type": "execute_result"
    }
   ],
   "source": [
    "data.shape"
   ]
  },
  {
   "cell_type": "code",
   "execution_count": null,
   "metadata": {
    "collapsed": true
   },
   "outputs": [],
   "source": [
    "# Questions for office hours:\n",
    "    # 1. Scope of project - what kinds of questions/how difficult should they be?\n",
    "    # \n",
    "    #\n",
    "    # 2. What kinds of specific skills do you want to see used in project?\n",
    "    #\n",
    "    #\n",
    "    # 3. Do you have to include the OS.path.join stuff?.\n",
    "    #\n",
    "    #\n",
    "    # 4. We talked about deleting rows and columns with the any / all command\n",
    "    # - is there a way to delete entries if CERTAIN cells are NaN?\n",
    "    #\n",
    "    #\n",
    "    # 5. How to convert a Date column from object into int64?\n",
    "    #\n",
    "    #\n",
    "    # 6. How to convert floats to int for entire column?"
   ]
  },
  {
   "cell_type": "code",
   "execution_count": 20,
   "metadata": {},
   "outputs": [
    {
     "data": {
      "text/html": [
       "<div>\n",
       "<style>\n",
       "    .dataframe thead tr:only-child th {\n",
       "        text-align: right;\n",
       "    }\n",
       "\n",
       "    .dataframe thead th {\n",
       "        text-align: left;\n",
       "    }\n",
       "\n",
       "    .dataframe tbody tr th {\n",
       "        vertical-align: top;\n",
       "    }\n",
       "</style>\n",
       "<table border=\"1\" class=\"dataframe\">\n",
       "  <thead>\n",
       "    <tr style=\"text-align: right;\">\n",
       "      <th></th>\n",
       "      <th>CAMIS</th>\n",
       "      <th>DBA</th>\n",
       "      <th>BORO</th>\n",
       "      <th>BUILDING</th>\n",
       "      <th>STREET</th>\n",
       "      <th>ZIPCODE</th>\n",
       "      <th>PHONE</th>\n",
       "      <th>CUISINE DESCRIPTION</th>\n",
       "      <th>INSPECTION DATE</th>\n",
       "      <th>ACTION</th>\n",
       "      <th>VIOLATION CODE</th>\n",
       "      <th>VIOLATION DESCRIPTION</th>\n",
       "      <th>CRITICAL FLAG</th>\n",
       "      <th>SCORE</th>\n",
       "      <th>GRADE</th>\n",
       "      <th>GRADE DATE</th>\n",
       "      <th>RECORD DATE</th>\n",
       "      <th>INSPECTION TYPE</th>\n",
       "    </tr>\n",
       "  </thead>\n",
       "  <tbody>\n",
       "    <tr>\n",
       "      <th>0</th>\n",
       "      <td>41644539</td>\n",
       "      <td>ST MAZIE</td>\n",
       "      <td>BROOKLYN</td>\n",
       "      <td>345</td>\n",
       "      <td>GRAND STREET</td>\n",
       "      <td>11211.0</td>\n",
       "      <td>7183844807</td>\n",
       "      <td>American</td>\n",
       "      <td>03/24/2016</td>\n",
       "      <td>Violations were cited in the following area(s).</td>\n",
       "      <td>22C</td>\n",
       "      <td>Bulb not shielded or shatterproof, in areas wh...</td>\n",
       "      <td>Not Critical</td>\n",
       "      <td>NaN</td>\n",
       "      <td>NaN</td>\n",
       "      <td>NaN</td>\n",
       "      <td>02/11/2018</td>\n",
       "      <td>Administrative Miscellaneous / Initial Inspection</td>\n",
       "    </tr>\n",
       "    <tr>\n",
       "      <th>1</th>\n",
       "      <td>50033398</td>\n",
       "      <td>MAYA CUISINE</td>\n",
       "      <td>QUEENS</td>\n",
       "      <td>2442</td>\n",
       "      <td>STEINWAY ST</td>\n",
       "      <td>11103.0</td>\n",
       "      <td>7187773118</td>\n",
       "      <td>Mediterranean</td>\n",
       "      <td>03/08/2016</td>\n",
       "      <td>Violations were cited in the following area(s).</td>\n",
       "      <td>16B</td>\n",
       "      <td>The original nutritional fact labels and/or in...</td>\n",
       "      <td>Not Critical</td>\n",
       "      <td>NaN</td>\n",
       "      <td>NaN</td>\n",
       "      <td>NaN</td>\n",
       "      <td>02/11/2018</td>\n",
       "      <td>Trans Fat / Re-inspection</td>\n",
       "    </tr>\n",
       "    <tr>\n",
       "      <th>2</th>\n",
       "      <td>50047690</td>\n",
       "      <td>KIRSH BAKERY AND KITCHEN</td>\n",
       "      <td>MANHATTAN</td>\n",
       "      <td>551</td>\n",
       "      <td>AMSTERDAM AVE</td>\n",
       "      <td>10024.0</td>\n",
       "      <td>2129511123</td>\n",
       "      <td>American</td>\n",
       "      <td>08/04/2016</td>\n",
       "      <td>Violations were cited in the following area(s).</td>\n",
       "      <td>06E</td>\n",
       "      <td>Sanitized equipment or utensil, including in-u...</td>\n",
       "      <td>Critical</td>\n",
       "      <td>23.0</td>\n",
       "      <td>NaN</td>\n",
       "      <td>NaN</td>\n",
       "      <td>02/11/2018</td>\n",
       "      <td>Cycle Inspection / Initial Inspection</td>\n",
       "    </tr>\n",
       "    <tr>\n",
       "      <th>3</th>\n",
       "      <td>41709719</td>\n",
       "      <td>MARKET PLACE (CENTERPLATE)</td>\n",
       "      <td>MANHATTAN</td>\n",
       "      <td>655</td>\n",
       "      <td>WEST   34 STREET</td>\n",
       "      <td>10001.0</td>\n",
       "      <td>2122162426</td>\n",
       "      <td>American</td>\n",
       "      <td>05/06/2015</td>\n",
       "      <td>Violations were cited in the following area(s).</td>\n",
       "      <td>10H</td>\n",
       "      <td>Proper sanitization not provided for utensil w...</td>\n",
       "      <td>Not Critical</td>\n",
       "      <td>16.0</td>\n",
       "      <td>NaN</td>\n",
       "      <td>NaN</td>\n",
       "      <td>02/11/2018</td>\n",
       "      <td>Cycle Inspection / Initial Inspection</td>\n",
       "    </tr>\n",
       "    <tr>\n",
       "      <th>4</th>\n",
       "      <td>41671730</td>\n",
       "      <td>TONY'S PIZZERIA</td>\n",
       "      <td>BROOKLYN</td>\n",
       "      <td>7623</td>\n",
       "      <td>13 AVENUE</td>\n",
       "      <td>11228.0</td>\n",
       "      <td>7186216966</td>\n",
       "      <td>Pizza/Italian</td>\n",
       "      <td>02/10/2015</td>\n",
       "      <td>Violations were cited in the following area(s).</td>\n",
       "      <td>04J</td>\n",
       "      <td>Appropriately scaled metal stem-type thermomet...</td>\n",
       "      <td>Critical</td>\n",
       "      <td>20.0</td>\n",
       "      <td>NaN</td>\n",
       "      <td>NaN</td>\n",
       "      <td>02/11/2018</td>\n",
       "      <td>Cycle Inspection / Initial Inspection</td>\n",
       "    </tr>\n",
       "  </tbody>\n",
       "</table>\n",
       "</div>"
      ],
      "text/plain": [
       "      CAMIS                         DBA       BORO BUILDING            STREET  \\\n",
       "0  41644539                    ST MAZIE   BROOKLYN      345      GRAND STREET   \n",
       "1  50033398                MAYA CUISINE     QUEENS     2442       STEINWAY ST   \n",
       "2  50047690    KIRSH BAKERY AND KITCHEN  MANHATTAN      551     AMSTERDAM AVE   \n",
       "3  41709719  MARKET PLACE (CENTERPLATE)  MANHATTAN      655  WEST   34 STREET   \n",
       "4  41671730             TONY'S PIZZERIA   BROOKLYN     7623         13 AVENUE   \n",
       "\n",
       "   ZIPCODE       PHONE CUISINE DESCRIPTION INSPECTION DATE  \\\n",
       "0  11211.0  7183844807            American      03/24/2016   \n",
       "1  11103.0  7187773118       Mediterranean      03/08/2016   \n",
       "2  10024.0  2129511123            American      08/04/2016   \n",
       "3  10001.0  2122162426            American      05/06/2015   \n",
       "4  11228.0  7186216966       Pizza/Italian      02/10/2015   \n",
       "\n",
       "                                            ACTION VIOLATION CODE  \\\n",
       "0  Violations were cited in the following area(s).            22C   \n",
       "1  Violations were cited in the following area(s).            16B   \n",
       "2  Violations were cited in the following area(s).            06E   \n",
       "3  Violations were cited in the following area(s).            10H   \n",
       "4  Violations were cited in the following area(s).            04J   \n",
       "\n",
       "                               VIOLATION DESCRIPTION CRITICAL FLAG  SCORE  \\\n",
       "0  Bulb not shielded or shatterproof, in areas wh...  Not Critical    NaN   \n",
       "1  The original nutritional fact labels and/or in...  Not Critical    NaN   \n",
       "2  Sanitized equipment or utensil, including in-u...      Critical   23.0   \n",
       "3  Proper sanitization not provided for utensil w...  Not Critical   16.0   \n",
       "4  Appropriately scaled metal stem-type thermomet...      Critical   20.0   \n",
       "\n",
       "  GRADE GRADE DATE RECORD DATE  \\\n",
       "0   NaN        NaN  02/11/2018   \n",
       "1   NaN        NaN  02/11/2018   \n",
       "2   NaN        NaN  02/11/2018   \n",
       "3   NaN        NaN  02/11/2018   \n",
       "4   NaN        NaN  02/11/2018   \n",
       "\n",
       "                                     INSPECTION TYPE  \n",
       "0  Administrative Miscellaneous / Initial Inspection  \n",
       "1                          Trans Fat / Re-inspection  \n",
       "2              Cycle Inspection / Initial Inspection  \n",
       "3              Cycle Inspection / Initial Inspection  \n",
       "4              Cycle Inspection / Initial Inspection  "
      ]
     },
     "execution_count": 20,
     "metadata": {},
     "output_type": "execute_result"
    }
   ],
   "source": [
    "data.head()"
   ]
  },
  {
   "cell_type": "code",
   "execution_count": 18,
   "metadata": {},
   "outputs": [
    {
     "data": {
      "text/plain": [
       "CAMIS                      int64\n",
       "DBA                       object\n",
       "BORO                      object\n",
       "BUILDING                  object\n",
       "STREET                    object\n",
       "ZIPCODE                  float64\n",
       "PHONE                     object\n",
       "CUISINE DESCRIPTION       object\n",
       "INSPECTION DATE           object\n",
       "ACTION                    object\n",
       "VIOLATION CODE            object\n",
       "VIOLATION DESCRIPTION     object\n",
       "CRITICAL FLAG             object\n",
       "SCORE                    float64\n",
       "GRADE                     object\n",
       "GRADE DATE                object\n",
       "RECORD DATE               object\n",
       "INSPECTION TYPE           object\n",
       "dtype: object"
      ]
     },
     "execution_count": 18,
     "metadata": {},
     "output_type": "execute_result"
    }
   ],
   "source": [
    "data.dtypes"
   ]
  },
  {
   "cell_type": "code",
   "execution_count": null,
   "metadata": {
    "collapsed": true
   },
   "outputs": [],
   "source": []
  }
 ],
 "metadata": {
  "kernelspec": {
   "display_name": "Python 3",
   "language": "python",
   "name": "python3"
  },
  "language_info": {
   "codemirror_mode": {
    "name": "ipython",
    "version": 3
   },
   "file_extension": ".py",
   "mimetype": "text/x-python",
   "name": "python",
   "nbconvert_exporter": "python",
   "pygments_lexer": "ipython3",
   "version": "3.6.3"
  }
 },
 "nbformat": 4,
 "nbformat_minor": 2
}
